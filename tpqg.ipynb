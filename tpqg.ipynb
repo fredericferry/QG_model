{
 "cells": [
  {
   "cell_type": "markdown",
   "metadata": {},
   "source": [
    "# Modèle quasi-géostrophique à tourbillon potentiel uniforme\n",
    "\n",
    "- Modèle Scilab : Matthieu Plu (GMAP/RECYF, Nov 2005)\n",
    "- Portage Python 3 : Clément Blot & Guillem Coquelet (IENM3, Septembre 2014 - Janvier 2015)\n",
    "- Mises à jour : Frédéric Ferry (ENM/C3M, février 2021)"
   ]
  },
  {
   "cell_type": "markdown",
   "metadata": {},
   "source": [
    "<div class=\"alert alert-warning\">\n",
    "<b>Instructions : </b>\n",
    "<p><b>1) </b>Exécuter les cellules qui suivent de façon séquentielle</p>\n",
    "<p><b>2) </b>Répondre aux questions (cadres de couleur jaune) dans les parties dédiées (cadres de couleur verte)</p>\n",
    "<p><b>3) </b>Sauvegarder le notebook final au format pdf</p>\n",
    "</div>"
   ]
  },
  {
   "cell_type": "code",
   "execution_count": null,
   "metadata": {},
   "outputs": [],
   "source": [
    "import sys\n",
    "import warnings\n",
    "warnings.filterwarnings(\"ignore\")\n",
    "\n",
    "import numpy as np\n",
    "from numpy import amax, amin, array, linspace, shape, transpose\n",
    "from numpy.ma.core import shape, zeros\n",
    "\n",
    "import matplotlib.pyplot as plt\n",
    "import matplotlib.path as mpath\n",
    "\n",
    "import IPython.display as IPdisplay, matplotlib.font_manager as fm\n",
    "from PIL import Image\n",
    "import glob\n",
    "\n",
    "# Modèle QG\n",
    "from config import DT, H, LX, LY, N, M, MUTIL, NUTIL\n",
    "from model.etat_initial import EtatInitial\n",
    "from model.modele import Modele\n",
    "\n",
    "from model.diagnostic import diag_h_theta, diag_h_vorti, diag_h_geop, \\\n",
    "    diag_h_vv, diag_h_wind, diag_h_deform, diag_h_gradtheta, diag_h_q, \\\n",
    "    diag_m_theta, diag_m_wind, diag_z_theta, diag_z_vorti, diag_z_vv"
   ]
  },
  {
   "cell_type": "raw",
   "metadata": {},
   "source": [
    "Rappel des commandes du modèle"
   ]
  },
  {
   "cell_type": "code",
   "execution_count": null,
   "metadata": {},
   "outputs": [],
   "source": [
    "#################### Configuration du modèle  #########################\n",
    "#\n",
    "# Dimension x (m) : LX\n",
    "# Dimension y (m) : LY\n",
    "# Dimension z (m) : H\n",
    "# Pas de temps (s) : DT\n",
    "# Nb de points x (lat) : MUTIL\n",
    "# Nb de points y (lon) : NUTIL\n",
    "#\n",
    "#################### Etat initial du modèle ###############\n",
    "#\n",
    "# thhi, thbi = EtatInitial().gradeady_gradwernli()\n",
    "# steps = [0]\n",
    "# thh, thb = Modele().run(thhi, thbi, steps)\n",
    "#\n",
    "#################### Lancement du modèle avec superposition des anomalies ###############\n",
    "#\n",
    "# thhi, thbi = EtatInitial().gradeady_gradwernli_anotripo(tilt=1400)\n",
    "# steps = [0, 48, 96, 144, 192, 240, 288, 336, 384]\n",
    "# thh, thb = Modele().run(thhi, thbi, steps)\n",
    "#\n",
    "################## Niveaux du modèle ################\n",
    "#\n",
    "# Niveau bas du modèle : z=-H/2\n",
    "# Niveau haut du modèle : z=H/2\n",
    "# Niveau VV près du sol : z=-H/4\n",
    "# Niveau VV près de la tropopause : z=H/4\n",
    "#\n",
    "################## Coupes horizontales utilisées ######################\n",
    "#\n",
    "# diag_h_geop(thh, thb, z) : géopotentiel\n",
    "# diag_h_theta(thh, thb, z) : température potentielle\n",
    "# diag_h_theta(thh, thb, z) : ug, vg - vent géostrophique\n",
    "# diag_h_vorti(thh, thb, z) : tourbillon géostrophique\n",
    "# diag_h_vv(thh, thb, z) : vitesse verticale\n",
    "# diag_h_deform(thh, thb, z) : d1, d2 - déformation d'étirement et de cisaillement\n",
    "# diag_gradtheta(thh, thb, z) : module du gradient horizontal de theta\n",
    "# diag_h_q(thh, thb, z) : Q1, Q2, div(Q) - forçage géostrophique et divergence\n",
    "#\n",
    "################## Coupes méridiennes utilisées #######################\n",
    "#\n",
    "# diag_m_theta(thh, thb, y, n_z) : température potentielle\n",
    "# diag_m_wind(thh, thb, y, n_z) : ug, vg - vent géostrophique\n",
    "#\n",
    "################## Coupes zonales utilisées ###########################\n",
    "#\n",
    "# diag_z_theta(thh, thb, x, n_z) : température potentielle\n",
    "# diag_z_vorti(thh, thb, x, n_z) : tourbillon géostrophique\n",
    "# diag_z_vv(thh, thb, x, n_z) : vitesse verticale\n",
    "#\n",
    "#######################################################################"
   ]
  },
  {
   "cell_type": "raw",
   "metadata": {},
   "source": [
    "Répertoire des figures et animations"
   ]
  },
  {
   "cell_type": "code",
   "execution_count": null,
   "metadata": {},
   "outputs": [],
   "source": [
    "dir_figs='./out/'"
   ]
  },
  {
   "cell_type": "raw",
   "metadata": {},
   "source": [
    "Fonction de création des animations à partir des png"
   ]
  },
  {
   "cell_type": "code",
   "execution_count": null,
   "metadata": {},
   "outputs": [],
   "source": [
    "def make_animation():\n",
    "    nbimages=len(steps)\n",
    "    # create a tuple of display durations, one for each frame\n",
    "    first_last = 1000 #show the first and last frames for 100 ms\n",
    "    standard_duration = 1000 #show all other frames for 5 ms\n",
    "    durations = tuple([first_last] + [standard_duration] * (nbimages - 2) + [first_last])\n",
    "    # load all the static images into a list\n",
    "    images = [Image.open(image) for image in sorted(glob.glob('{}/*.png'.format(dir_anim)))]\n",
    "    # save as an animated gif\n",
    "    gif = images[0]\n",
    "    gif.info['duration'] = durations #ms per frame\n",
    "    gif.info['loop'] = 0 #how many times to loop (0=infinite)\n",
    "    gif.save(fp=gif_filepath, format='gif', save_all=True, append_images=images[1:])\n",
    "    # verify that the number of frames in the gif equals the number of image files and durations\n",
    "    Image.open(gif_filepath).n_frames == len(images) == len(durations)\n",
    "    # clean png\n",
    "    #os.chdir(dir_anim)\n",
    "    #for f in glob.glob(\"*.png\"):\n",
    "    #    os.remove(f)\n",
    "    #os.chdir(\"../../\")\n",
    "    return Image"
   ]
  },
  {
   "cell_type": "raw",
   "metadata": {},
   "source": [
    "Paramètres de configuration du modèle"
   ]
  },
  {
   "cell_type": "code",
   "execution_count": null,
   "metadata": {},
   "outputs": [],
   "source": [
    "print(\"Dimension x (m) : \",LX)\n",
    "print(\"Dimension y (m) : \",LY)\n",
    "print(\"Dimension z (m) : \",H)\n",
    "print(\"Pas de temps (s) : \",DT)\n",
    "print(\"Nb de points x (lat) : \",MUTIL)\n",
    "print(\"Nb de points y (lon) : \",NUTIL)\n",
    "\n",
    "abs = array(range(0,int(LX * 1e-3 + MUTIL),int(LX * 1e-3 / (MUTIL - 1) + 1)))\n",
    "ord = array(range(0,int(LY * 1e-3 + NUTIL),int(LY * 1e-3 / (NUTIL - 1) + 1)))\n",
    "print(abs)\n",
    "print(ord)"
   ]
  },
  {
   "cell_type": "raw",
   "metadata": {},
   "source": [
    "Fonction du fond de carte"
   ]
  },
  {
   "cell_type": "code",
   "execution_count": null,
   "metadata": {},
   "outputs": [],
   "source": [
    "def plot_background():\n",
    "    plt.gca().invert_yaxis()\n",
    "    plt.grid(True)  # Ajout de la grille\n",
    "    plt.xlabel(\"Axe Ouest - Est ($km$)\", fontsize=10)\n",
    "    plt.ylabel(\"Axe Nord - Sud ($km$)\", fontsize=10)"
   ]
  },
  {
   "cell_type": "raw",
   "metadata": {},
   "source": [
    "Echelles de valeurs"
   ]
  },
  {
   "cell_type": "code",
   "execution_count": null,
   "metadata": {},
   "outputs": [],
   "source": [
    "levels_u2=linspace(0, 10, 11) # vent zonal Eady\n",
    "levels_u=linspace(-40, 40, 17) # vent zonal modèle\n",
    "levels_th_m=linspace(280, 340, 13) # theta modèle coupe verticale\n",
    "levels_th_anom=linspace(-7, 7, 15) # anomalies de température potentielle\n",
    "levels_geo_h=linspace(-700, 700, 36) # geopotentiel coupe horizontale\n",
    "levels_th_h=linspace(280, 340, 21) # theta coupe horizontale modèle\n",
    "levels_vort_h_pos=linspace(1e-5, 1.01e-4, 11) # tourbillon geostrophique+ coupe horizontale\n",
    "levels_vort_h_neg=linspace(-1.01e-4, -1e-6, 11) # tourbillon geostrophique- coupe horizontale\n",
    "levels_vort_z_pos=linspace(0, 1e-4, 21) # tourbillon geostrophique+ coupe zonale\n",
    "levels_vort_z_neg=linspace(-1e-4, -5e-6, 20) # tourbillon geostrophique- coupe zonale\n",
    "levels_vv_h_neg=linspace(-0.022, -0.002, 11) # VV-\n",
    "levels_vv_h_pos=linspace(0.002, 0.022, 11) # VV+\n",
    "levels_modth_h=linspace(8e-8, 5e-5, 20) # Module du gradient horizontal de température potentielle\n",
    "levels_divQ_h=linspace(-30e-18, 30e-18, 31) # divergence de Q"
   ]
  },
  {
   "cell_type": "markdown",
   "metadata": {},
   "source": [
    "# Question 1 : Etat de base Eady"
   ]
  },
  {
   "cell_type": "raw",
   "metadata": {},
   "source": [
    "Etat de base du modèle de Eady"
   ]
  },
  {
   "cell_type": "code",
   "execution_count": null,
   "metadata": {
    "scrolled": false
   },
   "outputs": [],
   "source": [
    "thhi, thbi = EtatInitial().gradeady()\n",
    "steps = [0]\n",
    "thh, thb = Modele().run(thhi, thbi, steps)\n",
    "\n",
    "for i in range(shape(thh)[0]):\n",
    "    th1 = []\n",
    "    th2 = []\n",
    "    \n",
    "    th1.append(diag_h_theta(thh[i], thb[i], z=-H / 2))\n",
    "    th2.append(diag_h_theta(thh[i], thb[i], z=H / 2))    \n",
    "    th12 = np.reshape(th1, (MUTIL, NUTIL))\n",
    "    th22 = np.reshape(th2, (MUTIL, NUTIL))\n",
    "    \n",
    "    y = 8e6\n",
    "    n_z = 11\n",
    "    \n",
    "    theta = []\n",
    "    ug = []\n",
    "    theta.append(transpose(diag_m_theta(thh[i], thb[i], y, n_z)))\n",
    "    ug.append(transpose(diag_m_wind(thh[i], thb[i], y, n_z)[1]))\n",
    "    \n",
    "    theta2 = np.reshape(theta, (n_z, MUTIL))\n",
    "    ug2 = np.reshape(ug, (n_z, MUTIL))\n",
    "    print(theta2.shape)\n",
    "    print(ug2.shape)"
   ]
  },
  {
   "cell_type": "raw",
   "metadata": {},
   "source": [
    "Etat de base du modèle - coupes horizontales"
   ]
  },
  {
   "cell_type": "code",
   "execution_count": null,
   "metadata": {
    "scrolled": false
   },
   "outputs": [],
   "source": [
    "fig = plt.figure(figsize=(20,15))\n",
    "fig.suptitle('Etat de base du modèle : coupe horizontales sol/tropopause', fontsize=16)\n",
    "\n",
    "plt.subplot(221)\n",
    "plt.title(\"Température potentielle au sol\")\n",
    "plot_background()\n",
    "c = plt.contour(ord,abs,th12,levels=levels_th_h,linewidth=1.5)\n",
    "plt.clabel(c,c.levels[::2],inline=1,fontsize=8,fmt=\"%1.0f\")\n",
    "\n",
    "plt.subplot(222)\n",
    "plt.title(\"Température potentielle à la tropopause\")\n",
    "plot_background()\n",
    "c = plt.contour(ord,abs,th22,levels_th_h,linewidth=1.5)\n",
    "plt.clabel(c,c.levels[::2],inline=1,fontsize=8,fmt=\"%1.0f\")\n",
    "\n",
    "plt.subplot(223)\n",
    "plt.title('Coupe méridienne température potentielle et vent zonal')\n",
    "z = range(0, int(H + 1), int(H / (n_z - 1)))\n",
    "plt.xlabel(\"Axe Nord - Sud ($km$)\", fontsize=10)\n",
    "plt.xticks(np.arange(MUTIL)[::12],abs[::12])\n",
    "plt.ylabel(\"Altitude ($km$)\", fontsize=10)\n",
    "c = plt.contour(theta2,z,levels=levels_th_m,linewidths=2)\n",
    "plt.clabel(c,fontsize=8,fmt=\"%1.0f\")\n",
    "cf = plt.contourf(ug2,z,levels=levels_u2,cmap=\"Reds\")\n",
    "plt.clabel(cf,inline=1,fontsize=8,fmt=\"%1.0f\",colors=\"gray\")\n",
    "colord = plt.colorbar(cf, orientation=\"vertical\")\n",
    "colord.set_label(\"Vent géostrophique zonal $(m.s^{-1})$\")\n",
    "\n",
    "figname=dir_figs+'Q1_Eady'\n",
    "plt.savefig(figname+'.png',bbox_inches='tight')\n",
    "plt.show()"
   ]
  },
  {
   "cell_type": "markdown",
   "metadata": {},
   "source": [
    "<div class=\"alert alert-warning\">\n",
    "<b>Questions : </b>\n",
    "<p><b>1) </b>Décrire l'état de base \"Eady\".</p>\n",
    "</div>"
   ]
  },
  {
   "cell_type": "markdown",
   "metadata": {},
   "source": [
    "<div class=\"alert alert-success\">\n",
    "<b>Réponse : </b>\n",
    "</div>"
   ]
  },
  {
   "cell_type": "markdown",
   "metadata": {},
   "source": [
    "# Question 2 : Etat de base du modèle"
   ]
  },
  {
   "cell_type": "raw",
   "metadata": {},
   "source": [
    "Etat de base du modèle - coupes horizontales"
   ]
  },
  {
   "cell_type": "code",
   "execution_count": null,
   "metadata": {
    "scrolled": false
   },
   "outputs": [],
   "source": [
    "thhi, thbi = EtatInitial().gradeady_gradwernli()\n",
    "steps = [0]\n",
    "thh, thb = Modele().run(thhi, thbi, steps)\n",
    "\n",
    "geo1 = []\n",
    "geo2 = []\n",
    "th1 = []\n",
    "th2 = []\n",
    "vort1 = []\n",
    "vort2 = []\n",
    "ug1,vg1 = [], []\n",
    "ug2,vg2 = [], []\n",
    "\n",
    "geo1.append(diag_h_geop(thh, thb, z=-H / 2))\n",
    "geo2.append(diag_h_geop(thh, thb, z=H / 2))\n",
    "th1.append(diag_h_theta(thh, thb, z=-H / 2))\n",
    "th2.append(diag_h_theta(thh, thb, z=H / 2))\n",
    "vort1.append(diag_h_vorti(thh, thb, z=-H / 2))\n",
    "vort2.append(diag_h_vorti(thh, thb, z=H / 2))\n",
    "ug_tmp, vg_tmp = diag_h_wind(thh, thb, z=-H / 2)\n",
    "ug1.append(ug_tmp)\n",
    "vg1.append(vg_tmp)\n",
    "ug_tmp, vg_tmp = diag_h_wind(thh, thb, z=H / 2)\n",
    "ug2.append(ug_tmp)\n",
    "vg2.append(vg_tmp)\n",
    "    \n",
    "geo12 = np.reshape(geo1, (MUTIL, NUTIL))\n",
    "geo22 = np.reshape(geo2, (MUTIL, NUTIL))\n",
    "th12 = np.reshape(th1, (MUTIL, NUTIL))\n",
    "th22 = np.reshape(th2, (MUTIL, NUTIL))\n",
    "vort12 = np.reshape(vort1, (MUTIL, NUTIL))\n",
    "vort22 = np.reshape(vort2, (MUTIL, NUTIL))\n",
    "ug12 = np.reshape(ug1, (MUTIL, NUTIL))\n",
    "vg12 = np.reshape(vg1, (MUTIL, NUTIL))\n",
    "ug22 = np.reshape(ug2, (MUTIL, NUTIL))\n",
    "vg22 = np.reshape(vg2, (MUTIL, NUTIL))"
   ]
  },
  {
   "cell_type": "raw",
   "metadata": {},
   "source": [
    "Etat de base du modèle - coupes horizontales"
   ]
  },
  {
   "cell_type": "code",
   "execution_count": null,
   "metadata": {
    "scrolled": false
   },
   "outputs": [],
   "source": [
    "fig = plt.figure(figsize=(17,15))\n",
    "fig.suptitle('Etat de base du modèle : coupe horizontales sol/tropopause', fontsize=16)\n",
    "\n",
    "plt.subplot(321)\n",
    "plt.title(\"Géopotentiel et vent au sol\")\n",
    "plot_background()\n",
    "c = plt.contour(ord,abs,geo12,levels_geo_h)\n",
    "plt.clabel(c,c.levels[::2],inline=1,fontsize=10,fmt=\"%1.0f\")\n",
    "plt.quiver(ord[::5],abs[::5],vg12[::5, ::5],-ug12[::5, ::5],scale=500,headwidth=8,width=0.0013)\n",
    "\n",
    "plt.subplot(322)\n",
    "plt.title(\"Géopotentiel et vent à la tropopause\")\n",
    "plot_background()\n",
    "c = plt.contour(ord,abs,geo22,levels_geo_h)\n",
    "plt.clabel(c,c.levels[::2],inline=1,fontsize=10,fmt=\"%1.0f\")\n",
    "plt.quiver(ord[::5],abs[::5],vg22[::5, ::5],-ug22[::5, ::5],scale=500,headwidth=8,width=0.0013)\n",
    "\n",
    "plt.subplot(323)\n",
    "plt.title(\"Température potentielle et vent au sol\")\n",
    "plot_background()\n",
    "c = plt.contour(ord,abs,th12,levels_th_h,linewidth=1.5)\n",
    "plt.clabel(c,c.levels[::2],inline=1,fontsize=8,fmt=\"%1.0f\")\n",
    "plt.quiver(ord[::5],abs[::5],vg12[::5, ::5],-ug12[::5, ::5],scale=500,headwidth=8,width=0.0013)\n",
    "\n",
    "plt.subplot(324)\n",
    "plt.title(\"Température potentielle et vent à la tropopause\")\n",
    "plot_background()\n",
    "c = plt.contour(ord,abs,th22,levels_th_h,linewidth=1.5)\n",
    "plt.clabel(c,c.levels[::2],inline=1,fontsize=8,fmt=\"%1.0f\")\n",
    "plt.quiver(ord[::5],abs[::5],vg22[::5, ::5],-ug22[::5, ::5],scale=500,headwidth=8,width=0.0013)\n",
    "\n",
    "plt.subplot(325)\n",
    "plt.title(\"Tourbillon géostrophique et vitesse verticale au sol\")\n",
    "plot_background()\n",
    "c1 = plt.contour(ord,abs,vort12,levels_vort_h_pos,colors=\"blue\")\n",
    "plt.clabel(c1,c1.levels[::2],inline=1,fontsize=6,fmt=\"%1.6f\")\n",
    "c2 = plt.contour(ord,abs,vort12,levels_vort_h_neg,colors=\"red\")\n",
    "plt.clabel(c2,c2.levels[::2],inline=1,fontsize=6,fmt=\"%1.6f\")\n",
    "\n",
    "plt.subplot(326)\n",
    "plt.title(\"Tourbillon géostrophique et vitesse verticale à la tropopause\")\n",
    "plot_background()\n",
    "c1 = plt.contour(ord,abs,vort22,levels_vort_h_pos,colors=\"blue\")\n",
    "plt.clabel(c1,c1.levels[::2],inline=1,fontsize=6,fmt=\"%1.6f\")\n",
    "c2 = plt.contour(ord,abs,vort22,levels_vort_h_neg,colors=\"red\")\n",
    "plt.clabel(c2,c2.levels[::2],inline=1,fontsize=6,fmt=\"%1.6f\")\n",
    "\n",
    "figname=dir_figs+'Q2_base'\n",
    "plt.savefig(figname+'.png',bbox_inches='tight')\n",
    "plt.show()"
   ]
  },
  {
   "cell_type": "raw",
   "metadata": {},
   "source": [
    "Etat de base du modèle - zone barocline"
   ]
  },
  {
   "cell_type": "code",
   "execution_count": null,
   "metadata": {
    "scrolled": false
   },
   "outputs": [],
   "source": [
    "y = 8e6\n",
    "n_z = 11\n",
    "\n",
    "for i in range(shape(thh)[0]):\n",
    "    theta = []\n",
    "    ug = []\n",
    "    theta.append(transpose(diag_m_theta(thh[i], thb[i], y, n_z)))\n",
    "    ug.append(transpose(diag_m_wind(thh[i], thb[i], y, n_z)[1]))\n",
    "    \n",
    "    theta2 = np.reshape(theta, (n_z, MUTIL))\n",
    "    ug2 = np.reshape(ug, (n_z, MUTIL))\n",
    "    print(theta2.shape)\n",
    "    print(ug2.shape)"
   ]
  },
  {
   "cell_type": "raw",
   "metadata": {},
   "source": [
    "Etat de base du modèle - zone barocline"
   ]
  },
  {
   "cell_type": "code",
   "execution_count": null,
   "metadata": {
    "scrolled": false
   },
   "outputs": [],
   "source": [
    "fig = plt.figure(figsize=(12,8))\n",
    "fig.suptitle('Etat de base du modèle', fontsize=16)\n",
    "\n",
    "plt.subplot(111)\n",
    "plt.title('Coupe méridienne température potentielle et vent zonal')\n",
    "z = range(0, int(H + 1), int(H / (n_z - 1)))\n",
    "plt.xlabel(\"Axe Nord - Sud ($km$)\", fontsize=10)\n",
    "plt.xticks(np.arange(MUTIL)[::12],abs[::12])\n",
    "plt.ylabel(\"Altitude ($km$)\", fontsize=10)\n",
    "c = plt.contour(theta2,z,levels=levels_th_m,linewidths=2)\n",
    "plt.clabel(c,fontsize=8,fmt=\"%1.0f\")\n",
    "cf = plt.contourf(ug2,z,levels=levels_u,cmap=\"seismic\")\n",
    "plt.clabel(cf,inline=1,fontsize=8,fmt=\"%1.0f\",colors=\"gray\")\n",
    "colord = plt.colorbar(cf, orientation=\"vertical\")\n",
    "colord.set_label(\"Vent géostrophique zonal $(m.s^{-1})$\")\n",
    "\n",
    "figname=dir_figs+'Q2_zone_barocline'\n",
    "plt.savefig(figname+'.png',bbox_inches='tight')\n",
    "plt.show()"
   ]
  },
  {
   "cell_type": "markdown",
   "metadata": {},
   "source": [
    "<div class=\"alert alert-warning\">\n",
    "<b>Questions : </b>\n",
    "<p><b>1) </b>Décrire l'état de base du modèle.</p>\n",
    "<p><b>2) </b>Quantifier la baroclinie en milieu de domaine en termes de gradient méridien de température et de cisaillement de vent zonal correspondant. Comment qualifier cette baroclinie par rapport à la réalité ?.</p>\n",
    "</div>"
   ]
  },
  {
   "cell_type": "markdown",
   "metadata": {},
   "source": [
    "<div class=\"alert alert-success\">\n",
    "<b>Réponses : </b>\n",
    "</div>"
   ]
  },
  {
   "cell_type": "markdown",
   "metadata": {},
   "source": [
    "# Question 3 : Etat initial"
   ]
  },
  {
   "cell_type": "raw",
   "metadata": {},
   "source": [
    "Anomalies de température"
   ]
  },
  {
   "cell_type": "code",
   "execution_count": null,
   "metadata": {
    "scrolled": false
   },
   "outputs": [],
   "source": [
    "steps = [0]\n",
    "tilt = 1400\n",
    "\n",
    "thhi_a, thbi_a = EtatInitial().anotripo(tilt)\n",
    "thh_a, thb_a = Modele().run(thhi_a, thbi_a, steps)\n",
    "th1_a = []\n",
    "th2_a = []\n",
    "th1_a.append(diag_h_theta(thh_a, thb_a, z=-H / 2))\n",
    "th2_a.append(diag_h_theta(thh_a, thb_a, z=H / 2))\n",
    "th12_a = np.reshape(th1_a, (MUTIL, NUTIL))\n",
    "th22_a = np.reshape(th2_a, (MUTIL, NUTIL))\n",
    "\n",
    "thhi, thbi = EtatInitial().gradeady_gradwernli_anotripo(tilt)\n",
    "thh, thb = Modele().run(thhi, thbi, steps)\n",
    "th1 = []\n",
    "th2 = []\n",
    "th1.append(diag_h_theta(thh, thb, z=-H / 2))\n",
    "th2.append(diag_h_theta(thh, thb, z=H / 2))\n",
    "th12 = np.reshape(th1, (MUTIL, NUTIL))\n",
    "th22 = np.reshape(th2, (MUTIL, NUTIL))"
   ]
  },
  {
   "cell_type": "raw",
   "metadata": {},
   "source": [
    "Anomalies de température"
   ]
  },
  {
   "cell_type": "code",
   "execution_count": null,
   "metadata": {
    "scrolled": false
   },
   "outputs": [],
   "source": [
    "fig = plt.figure(figsize=(20,10))\n",
    "fig.suptitle('Etat initial du modèle', fontsize=16)\n",
    "\n",
    "plt.subplot(221)\n",
    "plt.title(\"Anomalie de température potentielle au sol\")\n",
    "plot_background()\n",
    "c = plt.contour(ord,abs,th12_a,levels_th_anom,linewidth=1.5)\n",
    "plt.clabel(c,c.levels[::2],inline=1,fontsize=8,fmt=\"%1.0f\")\n",
    "\n",
    "plt.subplot(222)\n",
    "plt.title(\"Etat initial en température potentielle au sol\")\n",
    "plot_background()\n",
    "c = plt.contour(ord,abs,th12,levels_th_h,linewidth=1.5)\n",
    "plt.clabel(c,c.levels[::2],inline=1,fontsize=8,fmt=\"%1.0f\")\n",
    "\n",
    "plt.subplot(223)\n",
    "plt.title(\"Anomalie de température potentielle à la tropopause\")\n",
    "plot_background()\n",
    "c = plt.contour(ord,abs,th22_a,levels_th_anom,linewidth=1.5)\n",
    "plt.clabel(c,c.levels[::2],inline=1,fontsize=8,fmt=\"%1.0f\")\n",
    "\n",
    "plt.subplot(224)\n",
    "plt.title(\"Etat initial en température potentielle à la tropopause\")\n",
    "plot_background()\n",
    "c = plt.contour(ord,abs,th22,levels_th_h,linewidth=1.5)\n",
    "plt.clabel(c,c.levels[::2],inline=1,fontsize=8,fmt=\"%1.0f\")\n",
    "\n",
    "figname=dir_figs+'Q3_anomT'\n",
    "plt.savefig(figname+'.png',bbox_inches='tight')\n",
    "plt.show()"
   ]
  },
  {
   "cell_type": "markdown",
   "metadata": {},
   "source": [
    "<div class=\"alert alert-warning\">\n",
    "<b>Question : </b>\n",
    "<p><b>1) </b>Caractériser les perturbations de température superposées à l'état de base (forme, signe, intensité, localisation).</p>\n",
    "</div>"
   ]
  },
  {
   "cell_type": "markdown",
   "metadata": {},
   "source": [
    "<div class=\"alert alert-success\">\n",
    "<b>Réponse : </b>\n",
    "</div>"
   ]
  },
  {
   "cell_type": "markdown",
   "metadata": {},
   "source": [
    "# Question 4 : Cyclogenèse avec 2 anomalies - instant initial"
   ]
  },
  {
   "cell_type": "raw",
   "metadata": {},
   "source": [
    "Run du modèle - instant 0"
   ]
  },
  {
   "cell_type": "code",
   "execution_count": null,
   "metadata": {
    "scrolled": false
   },
   "outputs": [],
   "source": [
    "thhi, thbi = EtatInitial().gradeady_gradwernli_anotripo(tilt=1400)\n",
    "steps = [0]\n",
    "thh, thb = Modele().run(thhi, thbi, steps)\n",
    "\n",
    "for i in range(shape(thh)[0]):\n",
    "    \n",
    "    geo1 = []\n",
    "    geo2 = []\n",
    "    th1 = []\n",
    "    th2 = []\n",
    "    vort1 = []\n",
    "    vort2 = []\n",
    "    vv1 = []\n",
    "    vv2 = []\n",
    "    ug1,vg1 = [], []\n",
    "    ug2,vg2 = [], []\n",
    "\n",
    "    geo1.append(diag_h_geop(thh[i], thb[i], z=-H / 2))\n",
    "    geo2.append(diag_h_geop(thh[i], thb[i], z=H / 2))\n",
    "    th1.append(diag_h_theta(thh[i], thb[i], z=-H / 2))\n",
    "    th2.append(diag_h_theta(thh[i], thb[i], z=H / 2))\n",
    "    vort1.append(diag_h_vorti(thh[i], thb[i], z=-H / 2))\n",
    "    vort2.append(diag_h_vorti(thh[i], thb[i], z=H / 2))\n",
    "    vv1.append(diag_h_vv(thh[i], thb[i], z=-H / 4))\n",
    "    vv2.append(diag_h_vv(thh[i], thb[i], z=H / 4))\n",
    "    ug_tmp, vg_tmp = diag_h_wind(thh[i], thb[i], z=-H / 2)\n",
    "    ug1.append(ug_tmp)\n",
    "    vg1.append(vg_tmp)\n",
    "    ug_tmp, vg_tmp = diag_h_wind(thh[i], thb[i], z=H / 2)\n",
    "    ug2.append(ug_tmp)\n",
    "    vg2.append(vg_tmp)\n",
    "    \n",
    "    geo12 = np.reshape(geo1, (MUTIL, NUTIL))\n",
    "    geo22 = np.reshape(geo2, (MUTIL, NUTIL))\n",
    "    th12 = np.reshape(th1, (MUTIL, NUTIL))\n",
    "    th22 = np.reshape(th2, (MUTIL, NUTIL))\n",
    "    vort12 = np.reshape(vort1, (MUTIL, NUTIL))\n",
    "    vort22 = np.reshape(vort2, (MUTIL, NUTIL))\n",
    "    vv12 = np.reshape(vv1, (MUTIL, NUTIL))\n",
    "    vv22 = np.reshape(vv2, (MUTIL, NUTIL))\n",
    "    ug12 = np.reshape(ug1, (MUTIL, NUTIL))\n",
    "    vg12 = np.reshape(vg1, (MUTIL, NUTIL))\n",
    "    ug22 = np.reshape(ug2, (MUTIL, NUTIL))\n",
    "    vg22 = np.reshape(vg2, (MUTIL, NUTIL))\n",
    "    \n",
    "    fig = plt.figure(figsize=(20,10))\n",
    "    fig.suptitle('Etat initial du modèle : coupes horizontales sol/tropopause', fontsize=16)\n",
    "    \n",
    "    plt.subplot(221)\n",
    "    plt.title(\"Géopotentiel température potentielle et vent au sol\")\n",
    "    plot_background()\n",
    "    c = plt.contour(ord,abs,geo12,levels_geo_h,colors='k')\n",
    "    plt.clabel(c,c.levels[::2],inline=1,fontsize=10,fmt=\"%1.0f\")\n",
    "    c = plt.contour(ord,abs,th12,levels_th_h,linewidth=1.5)\n",
    "    plt.clabel(c,c.levels[::2],inline=1,fontsize=8,fmt=\"%1.0f\")\n",
    "    plt.quiver(ord[::5],abs[::5],vg12[::5, ::5],-ug12[::5, ::5],scale=500,headwidth=8,width=0.0013)\n",
    "    \n",
    "    plt.subplot(222)\n",
    "    plt.title(\"Géopotentiel température potentielle et vent à la tropopause\")\n",
    "    plot_background()\n",
    "    c = plt.contour(ord,abs,geo22,levels_geo_h,colors='k')\n",
    "    plt.clabel(c,c.levels[::2],inline=1,fontsize=10,fmt=\"%1.0f\")\n",
    "    c = plt.contour(ord,abs,th22,levels_th_h,linewidth=1.5)\n",
    "    plt.clabel(c,c.levels[::2],inline=1,fontsize=8,fmt=\"%1.0f\")\n",
    "    plt.quiver(ord[::5],abs[::5],vg22[::5, ::5],-ug22[::5, ::5],scale=500,headwidth=8,width=0.0013)\n",
    "    \n",
    "    plt.subplot(223)\n",
    "    plt.title(\"Tourbillon géostrophique température potentielle et vitesse verticale au sol\")\n",
    "    plot_background()\n",
    "    c = plt.contour(ord,abs,th12,levels_th_h,linewidth=1.5)\n",
    "    plt.clabel(c,c.levels[::2],inline=1,fontsize=8,fmt=\"%1.0f\")\n",
    "    c1 = plt.contour(ord,abs,vort12,levels_vort_h_pos,colors=\"blue\")\n",
    "    plt.clabel(c1,c1.levels[::2],inline=1,fontsize=6,fmt=\"%1.6f\")\n",
    "    c3 = plt.contour(ord,abs,vv12,levels_vv_h_neg,colors=\"black\",linestyles=\"--\")\n",
    "    plt.clabel(c3,c3.levels[::2],inline=1,fontsize=6,fmt=\"%1.3f\")\n",
    "    c4 = plt.contour(ord,abs,vv12,levels_vv_h_pos,colors=\"black\",linestyles=\"-\")\n",
    "    plt.clabel(c4,c4.levels[::2],fontsize=6,fmt=\"%1.3f\")\n",
    "    \n",
    "    plt.subplot(224)\n",
    "    plt.title(\"Tourbillon géostrophique et température potentielle et vitesse verticale à la tropopause\")\n",
    "    plot_background()\n",
    "    c = plt.contour(ord,abs,th22,levels_th_h,linewidth=1.5)\n",
    "    plt.clabel(c,c.levels[::2],inline=1,fontsize=8,fmt=\"%1.0f\")\n",
    "    c1 = plt.contour(ord,abs,vort22,levels_vort_h_pos,colors=\"blue\")\n",
    "    plt.clabel(c1,c1.levels[::2],inline=1,fontsize=6,fmt=\"%1.6f\")\n",
    "    c3 = plt.contour(ord,abs,vv22,levels_vv_h_neg,colors=\"black\",linestyles=\"--\")\n",
    "    plt.clabel(c3,c3.levels[::2],inline=1,fontsize=6,fmt=\"%1.3f\")\n",
    "    c4 = plt.contour(ord,abs,vv22,levels_vv_h_pos,colors=\"black\",linestyles=\"-\")\n",
    "    plt.clabel(c4,c4.levels[::2],fontsize=6,fmt=\"%1.3f\")\n",
    "    \n",
    "    figname=dir_figs+'Q4_init_h'\n",
    "    plt.savefig(figname+'.png',bbox_inches='tight')\n",
    "    plt.show()\n",
    "    \n",
    "    # Ajout d'une coupe zonale\n",
    "    x = 4e6\n",
    "    n_z = 11\n",
    "    dz = H / (n_z - 1)\n",
    "    z1 = range(0, int(H + dz), int(dz))\n",
    "    \n",
    "    theta = []\n",
    "    vorti = []\n",
    "\n",
    "    theta.append(transpose(diag_z_theta(thh[i], thb[i], x, n_z)))\n",
    "    vorti.append(transpose(diag_z_vorti(thh[i], thb[i], x, n_z)))\n",
    "\n",
    "    theta2 = np.reshape(theta, (n_z, NUTIL))\n",
    "    vorti2 = np.reshape(vorti, (n_z, NUTIL))  \n",
    "\n",
    "    n_z = 13\n",
    "    dz = H / (n_z - 1)\n",
    "    z2 = range(0, int(H + dz), int(dz))\n",
    "    \n",
    "    vvv = []\n",
    "    vvv.append(transpose(diag_z_vv(thh[i], thb[i], x, n_z)))\n",
    "    \n",
    "    vvv2 = np.reshape(vvv, (n_z, NUTIL))\n",
    "    \n",
    "    fig = plt.figure(figsize=(10,8))\n",
    "    fig.suptitle('Etat initial du modèle : coupe zonale', fontsize=16)\n",
    "    plt.subplot(111)\n",
    "    plt.title(\"Température potentielle tourbillon géostrophique et vitesse verticale\")\n",
    "    plt.ylim([0, 10])\n",
    "    plt.xlabel(\"Axe Ouest - Est ($km$)\", fontsize=10)\n",
    "    plt.xticks(np.arange(NUTIL)[::12],ord[::12])\n",
    "    plt.ylabel(\"Altitude ($km$)\", fontsize=10)\n",
    "    c = plt.contour(theta2,levels=levels_th_m,linewidths=2)\n",
    "    plt.clabel(c, fontsize=8, fmt=\"%1.0f\")\n",
    "    #c1 = plt.contour(vorti2,levels=levels_vort_z_neg,colors='red',linewidths=2)\n",
    "    #plt.clabel(c1, c1.levels[::2], fontsize=8, fmt=\"%.0e\")\n",
    "    c2 = plt.contour(vorti2,levels=levels_vort_z_pos,colors='blue',linewidths=2)\n",
    "    plt.clabel(c2, c2.levels[::2], fontsize=8, fmt=\"%.0e\")\n",
    "    #plt.quiver(z2[::4],ord[::4],vvv2[::4, ::4] *1e-50,vvv2[::4, ::4] *1000,\n",
    "    #           scale=50,width=0.005,headwidth=3,scale_units=\"width\")\n",
    "    c = plt.contour(vvv2, colors='k')\n",
    "    plt.clabel(c, c.levels[::2], fontsize=7, fmt=\"%.0e\")\n",
    "    \n",
    "    figname=dir_figs+'Q4_init_z'\n",
    "    plt.savefig(figname+'.png',bbox_inches='tight')\n",
    "    plt.show()"
   ]
  },
  {
   "cell_type": "markdown",
   "metadata": {},
   "source": [
    "<div class=\"alert alert-warning\">\n",
    "<b>Questions : </b>\n",
    "<p><b>1) </b>Vérifier que les perturbations de tourbillon, de température et de stabilité statique répondent à ce que l'on soit avoir dans une atmosphère à tourbillon potentiel uniforme.</p>\n",
    "<p><b>2) </b>Comment expliquer la présence de noyaux de vitesses verticales à l'instant initial ?</p> \n",
    "</div>"
   ]
  },
  {
   "cell_type": "markdown",
   "metadata": {},
   "source": [
    "<div class=\"alert alert-success\">\n",
    "<b>Réponses : </b>\n",
    "</div>"
   ]
  },
  {
   "cell_type": "markdown",
   "metadata": {},
   "source": [
    "# Question 4 : Cyclogenèse avec 2 anomalies - simulation sur 4 jours"
   ]
  },
  {
   "cell_type": "raw",
   "metadata": {},
   "source": [
    "Simulation sur 4 jours"
   ]
  },
  {
   "cell_type": "code",
   "execution_count": null,
   "metadata": {
    "scrolled": false
   },
   "outputs": [],
   "source": [
    "thhi, thbi = EtatInitial().gradeady_gradwernli_anotripo(tilt=1400)\n",
    "steps = [0, 48, 96, 144, 192, 240, 288, 336, 384]\n",
    "\n",
    "thh, thb = Modele().run(thhi, thbi, steps)\n",
    "\n",
    "mini = []\n",
    "mini_ind = []\n",
    "\n",
    "for i in range(shape(thh)[0]):\n",
    "    \n",
    "    geo1 = []\n",
    "    geo2 = []\n",
    "    th1 = []\n",
    "    th2 = []\n",
    "    vort1 = []\n",
    "    vort2 = []\n",
    "    vv1 = []\n",
    "    vv2 = []\n",
    "    ug1,vg1 = [], []\n",
    "    ug2,vg2 = [], []\n",
    "\n",
    "    geo1.append(diag_h_geop(thh[i], thb[i], z=-H / 2))\n",
    "    geo2.append(diag_h_geop(thh[i], thb[i], z=H / 2))\n",
    "    th1.append(diag_h_theta(thh[i], thb[i], z=-H / 2))\n",
    "    th2.append(diag_h_theta(thh[i], thb[i], z=H / 2))\n",
    "    vort1.append(diag_h_vorti(thh[i], thb[i], z=-H / 2))\n",
    "    vort2.append(diag_h_vorti(thh[i], thb[i], z=H / 2))\n",
    "    vv1.append(diag_h_vv(thh[i], thb[i], z=-H / 4))\n",
    "    vv2.append(diag_h_vv(thh[i], thb[i], z=H / 4))   \n",
    "    ug_tmp, vg_tmp = diag_h_wind(thh[i], thb[i], z=-H / 2)\n",
    "    ug1.append(ug_tmp)\n",
    "    vg1.append(vg_tmp)\n",
    "    ug_tmp, vg_tmp = diag_h_wind(thh[i], thb[i], z=H / 2)\n",
    "    ug2.append(ug_tmp)\n",
    "    vg2.append(vg_tmp)\n",
    "    mini.append(round(int(np.min(diag_h_geop(thh[i], thb[i], z=-H / 2)))))\n",
    "    mini_ind.append(np.unravel_index(np.argmin(diag_h_geop(thh[i], thb[i], z=-H / 2),axis=None),thh[i].shape))\n",
    "    \n",
    "    geo12 = np.reshape(geo1, (MUTIL, NUTIL))\n",
    "    geo22 = np.reshape(geo2, (MUTIL, NUTIL))\n",
    "    th12 = np.reshape(th1, (MUTIL, NUTIL))\n",
    "    th22 = np.reshape(th2, (MUTIL, NUTIL))\n",
    "    vort12 = np.reshape(vort1, (MUTIL, NUTIL))\n",
    "    vort22 = np.reshape(vort2, (MUTIL, NUTIL))\n",
    "    vv12 = np.reshape(vv1, (MUTIL, NUTIL))\n",
    "    vv22 = np.reshape(vv2, (MUTIL, NUTIL))\n",
    "    ug12 = np.reshape(ug1, (MUTIL, NUTIL))\n",
    "    vg12 = np.reshape(vg1, (MUTIL, NUTIL))\n",
    "    ug22 = np.reshape(ug2, (MUTIL, NUTIL))\n",
    "    vg22 = np.reshape(vg2, (MUTIL, NUTIL))\n",
    "    \n",
    "    fig = plt.figure(figsize=(20,10))\n",
    "    fig.suptitle('Coupes horizontales sol/tropopause : t='+str(steps[i]), fontsize=16)\n",
    "    \n",
    "    plt.subplot(221)\n",
    "    plt.title(\"Géopotentiel température potentielle et vent au sol\")\n",
    "    plot_background()\n",
    "    c = plt.contour(ord,abs,geo12,levels_geo_h,colors='k')\n",
    "    plt.clabel(c,c.levels[::2],inline=1,fontsize=10,fmt=\"%1.0f\")\n",
    "    c = plt.contour(ord,abs,th12,levels_th_h,linewidth=1.5)\n",
    "    plt.clabel(c,c.levels[::2],inline=1,fontsize=8,fmt=\"%1.0f\")\n",
    "    plt.quiver(ord[::5],abs[::5],vg12[::5, ::5],-ug12[::5, ::5],scale=500,headwidth=8,width=0.0013)\n",
    "\n",
    "    plt.subplot(222)\n",
    "    plt.title(\"Géopotentiel température potentielle et vent à la tropopause\")\n",
    "    plot_background()\n",
    "    c = plt.contour(ord,abs,geo22,levels_geo_h,colors='k')\n",
    "    plt.clabel(c,c.levels[::2],inline=1,fontsize=10,fmt=\"%1.0f\")\n",
    "    c = plt.contour(ord,abs,th22,levels_th_h,linewidth=1.5)\n",
    "    plt.clabel(c,c.levels[::2],inline=1,fontsize=8,fmt=\"%1.0f\")\n",
    "    plt.quiver(ord[::5],abs[::5],vg22[::5, ::5],-ug22[::5, ::5],scale=500,headwidth=8,width=0.0013)\n",
    "    \n",
    "    plt.subplot(223)\n",
    "    plt.title(\"Tourbillon géostrophique température potentielle et vitesse verticale au sol\")\n",
    "    plot_background()\n",
    "    c = plt.contour(ord,abs,th12,levels_th_h,linewidth=1.5)\n",
    "    plt.clabel(c,c.levels[::2],inline=1,fontsize=8,fmt=\"%1.0f\")\n",
    "    c1 = plt.contour(ord,abs,vort12,levels_vort_h_pos,colors=\"blue\")\n",
    "    plt.clabel(c1,c1.levels[::2],inline=1,fontsize=6,fmt=\"%1.6f\")\n",
    "    c3 = plt.contour(ord,abs,vv12,levels_vv_h_neg,colors=\"black\",linestyles=\"--\")\n",
    "    plt.clabel(c3,c3.levels[::2],inline=1,fontsize=6,fmt=\"%1.3f\")\n",
    "    c4 = plt.contour(ord,abs,vv12,levels_vv_h_pos,colors=\"black\",linestyles=\"-\")\n",
    "    plt.clabel(c4,c4.levels[::2],fontsize=6,fmt=\"%1.3f\")\n",
    "    \n",
    "    plt.subplot(224)\n",
    "    plt.title(\"Tourbillon géostrophique température potentielle et vitesse verticale à la tropopause\")\n",
    "    plot_background()\n",
    "    c = plt.contour(ord,abs,th22,levels_th_h,linewidth=1.5)\n",
    "    plt.clabel(c,c.levels[::2],inline=1,fontsize=8,fmt=\"%1.0f\")\n",
    "    c1 = plt.contour(ord,abs,vort22,levels_vort_h_pos,colors=\"blue\")\n",
    "    plt.clabel(c1,c1.levels[::2],inline=1,fontsize=6,fmt=\"%1.6f\")\n",
    "    c3 = plt.contour(ord,abs,vv12,levels_vv_h_neg,colors=\"black\",linestyles=\"--\")\n",
    "    plt.clabel(c3,c3.levels[::2],inline=1,fontsize=6,fmt=\"%1.3f\")\n",
    "    c4 = plt.contour(ord,abs,vv12,levels_vv_h_pos,colors=\"black\",linestyles=\"-\")\n",
    "    plt.clabel(c4,c4.levels[::2],fontsize=6,fmt=\"%1.3f\")\n",
    "    \n",
    "    if steps[i]<10:\n",
    "        figname=dir_figs+'Q4/Q4_h_00'+str(steps[i])\n",
    "    if steps[i]>=10 and steps[i]<100:\n",
    "        figname=dir_figs+'Q4/Q4_h_0'+str(steps[i])\n",
    "    if steps[i]>=100:\n",
    "        figname=dir_figs+'Q4/Q4_h_'+str(steps[i])\n",
    "    plt.savefig(figname+'.png',bbox_inches='tight')\n",
    "    plt.close()\n",
    "    \n",
    "print(mini)\n",
    "print(mini_ind)"
   ]
  },
  {
   "cell_type": "raw",
   "metadata": {},
   "source": [
    "Animation"
   ]
  },
  {
   "cell_type": "code",
   "execution_count": null,
   "metadata": {},
   "outputs": [],
   "source": [
    "dir_anim='./out/Q4/'\n",
    "gif_filepath = dir_anim+'cyclo1.gif'\n",
    "make_animation()\n",
    "IPdisplay.Image(url=gif_filepath)"
   ]
  },
  {
   "cell_type": "markdown",
   "metadata": {},
   "source": [
    "<div class=\"alert alert-warning\">\n",
    "<b>Questions : </b>\n",
    "<p><b>1) </b>Décrire la cyclogenèse observée.</p>\n",
    "<p><b>2) </b>Afficher un graphique de l'évolution du minimum de géopotentiel (array mini) au cours de la simulation ainsi qu'un graphique du champ de géopotentiel au sol à la fin de la simulation (geo12) superposé au pointage de la trajectoire de la dépression (array mini_ind)</p> \n",
    "</div>"
   ]
  },
  {
   "cell_type": "markdown",
   "metadata": {},
   "source": [
    "<div class=\"alert alert-success\">\n",
    "<b>Réponses : </b>\n",
    "</div>"
   ]
  },
  {
   "cell_type": "raw",
   "metadata": {},
   "source": [
    "Suivi de la dépression"
   ]
  },
  {
   "cell_type": "code",
   "execution_count": null,
   "metadata": {
    "scrolled": false
   },
   "outputs": [],
   "source": []
  },
  {
   "cell_type": "markdown",
   "metadata": {},
   "source": [
    "# Question 5 : Sensibilité du creusement au déphasage"
   ]
  },
  {
   "cell_type": "markdown",
   "metadata": {},
   "source": [
    "<div class=\"alert alert-warning\">\n",
    "<b>Question : </b>\n",
    "<p><b>1) </b>Afficher un graphique de la différence du minimum de géopotentiel entre la fin et le début de la  simulation pour différentes valeurs du déphasage initial (0 à 2400m par pas de 200m). En déduire la valeur du déphasage correspondant à un creusement optimal de la dépression.</p>\n",
    "</div>"
   ]
  },
  {
   "cell_type": "raw",
   "metadata": {},
   "source": [
    "Test de sensibilité du creusement au déphasage initial"
   ]
  },
  {
   "cell_type": "code",
   "execution_count": null,
   "metadata": {
    "scrolled": false
   },
   "outputs": [],
   "source": []
  },
  {
   "cell_type": "markdown",
   "metadata": {},
   "source": [
    "# Question 6 : Forçage géostrophique et vitesses verticales"
   ]
  },
  {
   "cell_type": "raw",
   "metadata": {},
   "source": [
    "Simulation sur 4 jours"
   ]
  },
  {
   "cell_type": "code",
   "execution_count": null,
   "metadata": {
    "scrolled": false
   },
   "outputs": [],
   "source": [
    "thhi, thbi = EtatInitial().gradeady_gradwernli_anotripo(tilt=1400)\n",
    "steps = [0, 48, 96, 144, 192, 240, 288, 336, 384]\n",
    "\n",
    "thh, thb = Modele().run(thhi, thbi, steps)\n",
    "\n",
    "for i in range(shape(thh)[0]):\n",
    "    \n",
    "    geo1 = []\n",
    "    th1 = []\n",
    "    vort1 = []\n",
    "    vv1 = []\n",
    "    modth1 = []\n",
    "    ug1,vg1 = [], []\n",
    "    q1,q2,divq1 = [], [], []\n",
    "    \n",
    "    geo1.append(diag_h_geop(thh[i], thb[i], z=-H / 2))\n",
    "    th1.append(diag_h_theta(thh[i], thb[i], z=-H / 2))\n",
    "    vort1.append(diag_h_vorti(thh[i], thb[i], z=-H / 2))\n",
    "    vv1.append(diag_h_vv(thh[i], thb[i], z=-H / 4))\n",
    "    modth1.append(diag_h_gradtheta(thh[i], thb[i], z=-H / 2))\n",
    "    ug_tmp, vg_tmp = diag_h_wind(thh[i], thb[i], z=-H / 2)\n",
    "    ug1.append(ug_tmp)\n",
    "    vg1.append(vg_tmp)\n",
    "    divq1.append(diag_h_q(thh[i], thb[i], z=-H / 4)[2])\n",
    "    q1.append(diag_h_q(thh[i], thb[i], z=-H / 4)[0])\n",
    "    q2.append(diag_h_q(thh[i], thb[i], z=-H / 4)[1])\n",
    "    \n",
    "    geo12 = np.reshape(geo1, (MUTIL, NUTIL))\n",
    "    th12 = np.reshape(th1, (MUTIL, NUTIL))\n",
    "    vort12 = np.reshape(vort1, (MUTIL, NUTIL))\n",
    "    vv12 = np.reshape(vv1, (MUTIL, NUTIL))\n",
    "    modth12 = np.reshape(modth1, (MUTIL, NUTIL))\n",
    "    ug12 = np.reshape(ug1, (MUTIL, NUTIL))\n",
    "    vg12 = np.reshape(vg1, (MUTIL, NUTIL))\n",
    "    divq12 = np.reshape(divq1, (MUTIL, NUTIL))\n",
    "    q12 = np.reshape(q1, (MUTIL, NUTIL))\n",
    "    q22 = np.reshape(q2, (MUTIL, NUTIL))\n",
    "\n",
    "    fig = plt.figure(figsize=(12,20))\n",
    "    fig.suptitle('Forçage géostrophique et vitesses verticales : t='+str(steps[i]), fontsize=16)\n",
    "    \n",
    "    plt.subplot(211)\n",
    "    plt.title(\"Géopotentiel température potentielle et vent près du sol\")\n",
    "    plot_background()\n",
    "    c1 = plt.contour(ord,abs,geo12,levels_geo_h,colors='k')\n",
    "    plt.clabel(c1,c1.levels[::2],inline=1,fontsize=10,fmt=\"%1.0f\")\n",
    "    c2 = plt.contour(ord,abs,th12,levels_th_h,linewidth=1.5)\n",
    "    plt.clabel(c2,c2.levels[::2],inline=1,fontsize=8,fmt=\"%1.0f\")\n",
    "    \n",
    "    h1,_ = c1.legend_elements()\n",
    "    h2,_ = c2.legend_elements()\n",
    "    plt.legend([h1[0], h2[0]], ['Z', 'Theta'], loc='lower right')\n",
    "    \n",
    "    plt.quiver(ord[::5],abs[::5],vg12[::5, ::5],-ug12[::5, ::5],scale=500,headwidth=8,width=0.0013)\n",
    "    \n",
    "    plt.subplot(212)\n",
    "    plt.title(\"Géopotentiel, température potentielle, vecteur Q et divergence, vitesse verticale près du sol\")\n",
    "    plot_background()\n",
    "    c1 = plt.contour(ord,abs,geo12,levels_geo_h,colors='k')\n",
    "    plt.clabel(c1,c1.levels[::2],inline=1,fontsize=10,fmt=\"%1.0f\")\n",
    "    c2 = plt.contour(ord,abs,th12,levels_th_h,linewidth=1.5)\n",
    "    plt.clabel(c2,c2.levels[::2],inline=1,fontsize=8,fmt=\"%1.0f\")\n",
    "    #c2 = plt.contour(ord,abs,vort12,levels_vort_h_neg,colors=\"red\")\n",
    "    #plt.clabel(c2,c2.levels[::2],inline=1,fontsize=6,fmt=\"%1.6f\")\n",
    "    c3 = plt.contour(ord,abs,vv12,levels_vv_h_neg,colors=\"red\",linestyles=\"--\")\n",
    "    plt.clabel(c3,c3.levels[::2],inline=1,fontsize=6,fmt=\"%1.3f\")\n",
    "    c4 = plt.contour(ord,abs,vv12,levels_vv_h_pos,colors=\"blue\",linestyles=\"-\")\n",
    "    plt.clabel(c4,c4.levels[::2],fontsize=6,fmt=\"%1.3f\")\n",
    "    \n",
    "    h1,_ = c1.legend_elements()\n",
    "    h2,_ = c2.legend_elements()\n",
    "    h3,_ = c3.legend_elements()\n",
    "    h4,_ = c4.legend_elements()\n",
    "    plt.legend([h1[0], h2[0],h3[0], h4[0]], ['Z', 'Theta','VV-', 'VV+'], loc='lower right')\n",
    "    \n",
    "    cf = plt.contourf(ord,abs,divq12,levels_divQ_h,cmap=\"bwr\")\n",
    "    colord = plt.colorbar(cf, orientation=\"horizontal\")\n",
    "    colord.set_label(\"Divergence du vecteur Q\")\n",
    "    plt.quiver(ord[::2],abs[::2],q22[::2, ::2],-q12[::2, ::2],width=0.001\n",
    "               ,headwidth=8,scale_units=\"width\",scale=2e-10)\n",
    "    \n",
    "    if steps[i]<10:\n",
    "        figname=dir_figs+'Q6/Q6_Q_00'+str(steps[i])\n",
    "    if steps[i]>=10 and steps[i]<100:\n",
    "        figname=dir_figs+'Q6/Q6_Q_0'+str(steps[i])\n",
    "    if steps[i]>=100:\n",
    "        figname=dir_figs+'Q6/Q6_Q_'+str(steps[i])\n",
    "    plt.savefig(figname+'.png',bbox_inches='tight')\n",
    "    plt.close()"
   ]
  },
  {
   "cell_type": "raw",
   "metadata": {},
   "source": [
    "Animation"
   ]
  },
  {
   "cell_type": "code",
   "execution_count": null,
   "metadata": {},
   "outputs": [],
   "source": [
    "dir_anim='./out/Q6/'\n",
    "gif_filepath = dir_anim+'forcage.gif'\n",
    "make_animation()\n",
    "IPdisplay.Image(url=gif_filepath)"
   ]
  },
  {
   "cell_type": "markdown",
   "metadata": {},
   "source": [
    "<div class=\"alert alert-warning\">\n",
    "<b>Question : </b>\n",
    "<p><b>1) </b>Utiliser ces graphiques pour expliquer le lien entre les vitesses verticales et le forçage géostrophique.</p>\n",
    "</div>"
   ]
  },
  {
   "cell_type": "markdown",
   "metadata": {},
   "source": [
    "<div class=\"alert alert-success\">\n",
    "<b>Réponse : </b>\n",
    "</div>"
   ]
  },
  {
   "cell_type": "markdown",
   "metadata": {},
   "source": [
    "# Question 7 : Frontogenèse par déformation"
   ]
  },
  {
   "cell_type": "raw",
   "metadata": {},
   "source": [
    "Simulation sur 4 jours"
   ]
  },
  {
   "cell_type": "code",
   "execution_count": null,
   "metadata": {
    "scrolled": false
   },
   "outputs": [],
   "source": [
    "thhi, thbi = EtatInitial().gradeady_gradwernli_anotripo(tilt=1400)\n",
    "steps = [0, 48, 96, 144, 192, 240, 288, 336, 384]\n",
    "\n",
    "thh, thb = Modele().run(thhi, thbi, steps)\n",
    "\n",
    "mini = []\n",
    "\n",
    "for i in range(shape(thh)[0]):\n",
    "    \n",
    "    geo1 = []\n",
    "    geo2 = []\n",
    "    th1 = []\n",
    "    th2 = []\n",
    "    vort1 = []\n",
    "    vort2 = []\n",
    "    vv1 = []\n",
    "    vv2 = []\n",
    "    modth1 = []\n",
    "    modth2 = []\n",
    "    ug1,vg1 = [], []\n",
    "    ug2,vg2 = [], []\n",
    "    def11,def21 = [], []\n",
    "    def12,def22 = [], []\n",
    "\n",
    "    geo1.append(diag_h_geop(thh[i], thb[i], z=-H / 2))\n",
    "    th1.append(diag_h_theta(thh[i], thb[i], z=-H / 2))\n",
    "    vort1.append(diag_h_vorti(thh[i], thb[i], z=-H / 2))\n",
    "    vv1.append(diag_h_vv(thh[i], thb[i], z=-H / 4))\n",
    "    modth1.append(diag_h_gradtheta(thh[i], thb[i], z=-H / 2))\n",
    "    ug_tmp, vg_tmp = diag_h_wind(thh[i], thb[i], z=-H / 2)\n",
    "    ug1.append(ug_tmp)\n",
    "    vg1.append(vg_tmp)\n",
    "    def1_tmp, def2_tmp = diag_h_deform(thh[i], thb[i], z=-H / 2)\n",
    "    def11.append(def1_tmp)\n",
    "    def21.append(def2_tmp)\n",
    "    \n",
    "    geo12 = np.reshape(geo1, (MUTIL, NUTIL))\n",
    "    th12 = np.reshape(th1, (MUTIL, NUTIL))\n",
    "    vort12 = np.reshape(vort1, (MUTIL, NUTIL))\n",
    "    vv12 = np.reshape(vv1, (MUTIL, NUTIL))\n",
    "    modth12 = np.reshape(modth1, (MUTIL, NUTIL))\n",
    "    ug12 = np.reshape(ug1, (MUTIL, NUTIL))\n",
    "    vg12 = np.reshape(vg1, (MUTIL, NUTIL))\n",
    "    \n",
    "    fig = plt.figure(figsize=(12,20))\n",
    "    fig.suptitle('Frontogenèse par déformation : t='+str(steps[i]), fontsize=16)\n",
    "    \n",
    "    plt.subplot(211)\n",
    "    plt.title(\"Tourbillon géostrophique et température potentielle près du sol\")\n",
    "    plot_background()\n",
    "    c1 = plt.contour(ord,abs,th12,levels_th_h,linewidth=1.5)\n",
    "    plt.clabel(c1,c1.levels[::2],inline=1,fontsize=8,fmt=\"%1.0f\")\n",
    "    c2 = plt.contour(ord,abs,vort12,levels_vort_h_pos,colors=\"blue\")\n",
    "    plt.clabel(c2,c2.levels[::2],inline=1,fontsize=6,fmt=\"%1.6f\")\n",
    "    \n",
    "    h1,_ = c1.legend_elements()\n",
    "    h2,_ = c2.legend_elements()\n",
    "    plt.legend([h1[0], h2[0]], ['Theta', 'Vort'], loc='lower right')\n",
    "    \n",
    "    plt.subplot(212)\n",
    "    plt.title(\"Température potentielle (+module du gradient), déformation et vitesses verticales près du sol\")\n",
    "    plot_background()\n",
    "    c1 = plt.contour(ord,abs,th12,levels_th_h,linewidth=1)\n",
    "    plt.clabel(c1,c1.levels[::2],inline=1,fontsize=8,fmt=\"%1.0f\")\n",
    "    #c2 = plt.contour(ord,abs,vort12,levels_vort_h_neg,colors=\"red\")\n",
    "    #plt.clabel(c2,c2.levels[::2],inline=1,fontsize=6,fmt=\"%1.6f\")\n",
    "    c3 = plt.contour(ord,abs,vv12,levels_vv_h_neg,colors=\"grey\",linestyles=\"--\")\n",
    "    plt.clabel(c3,c3.levels[::2],inline=1,fontsize=6,fmt=\"%1.3f\")\n",
    "    c4 = plt.contour(ord,abs,vv12,levels_vv_h_pos,colors=\"grey\",linestyles=\"-\")\n",
    "    plt.clabel(c4,c4.levels[::2],fontsize=6,fmt=\"%1.3f\")\n",
    "    \n",
    "    h1,_ = c1.legend_elements()\n",
    "    h3,_ = c3.legend_elements()\n",
    "    h4,_ = c4.legend_elements()\n",
    "    plt.legend([h1[0],h3[0], h4[0]], ['Theta','VV-', 'VV+'], loc='lower right')\n",
    "    \n",
    "    cf = plt.contourf(ord,abs,modth12,linspace(8e-8, 5e-5, 20),linewidth=1.5, cmap=\"hot_r\")\n",
    "    colord = plt.colorbar(cf, orientation=\"horizontal\",format=\"%.1e\")\n",
    "    colord.set_label(\"Module du gradient de température potentielle $(K.m^{-1})$\")\n",
    "    plt.quiver(ord[::2],abs[::2],-def21[0][::2, ::2],def11[0][::2, ::2],scale=0.005,width=0.001,color=\"k\")\n",
    "    plt.quiver(ord[::2],abs[::2],def21[0][::2, ::2],-def11[0][::2, ::2],scale=0.005,width=0.001,color=\"k\")\n",
    "    \n",
    "    if steps[i]<10:\n",
    "        figname=dir_figs+'Q7/Q7_fronto_00'+str(steps[i])\n",
    "    if steps[i]>=10 and steps[i]<100:\n",
    "        figname=dir_figs+'Q7/Q7_fronto_0'+str(steps[i])\n",
    "    if steps[i]>=100:\n",
    "        figname=dir_figs+'Q7/Q7_fronto_'+str(steps[i])\n",
    "    plt.savefig(figname+'.png',bbox_inches='tight')\n",
    "    plt.close()"
   ]
  },
  {
   "cell_type": "raw",
   "metadata": {},
   "source": [
    "Animation"
   ]
  },
  {
   "cell_type": "code",
   "execution_count": null,
   "metadata": {},
   "outputs": [],
   "source": [
    "dir_anim='./out/Q7/'\n",
    "gif_filepath = dir_anim+'fronto.gif'\n",
    "make_animation()\n",
    "IPdisplay.Image(url=gif_filepath)"
   ]
  },
  {
   "cell_type": "markdown",
   "metadata": {},
   "source": [
    "<div class=\"alert alert-warning\">\n",
    "<b>Question : </b>\n",
    "<p><b>1) </b>Utiliser ces graphiques pour expliquer le mécansime de frontogénèse géostrophique.</p>\n",
    "</div>"
   ]
  },
  {
   "cell_type": "markdown",
   "metadata": {},
   "source": [
    "<div class=\"alert alert-success\">\n",
    "<b>Réponse : </b>\n",
    "</div>"
   ]
  },
  {
   "cell_type": "markdown",
   "metadata": {},
   "source": [
    "# Question 8 : Cyclogenèse avec une anomalie d'altitude uniquement"
   ]
  },
  {
   "cell_type": "raw",
   "metadata": {},
   "source": [
    "Simulation sur 4 jours"
   ]
  },
  {
   "cell_type": "code",
   "execution_count": null,
   "metadata": {
    "scrolled": false
   },
   "outputs": [],
   "source": [
    "thhi, thbi = EtatInitial().gradeady_gradwernli_anotripo(tilt=1400)\n",
    "thhi2, thbi2 = EtatInitial().gradeady_gradwernli()\n",
    "steps = [0]\n",
    "thh, thb = Modele().run(thhi, thbi2, steps)\n",
    "\n",
    "for i in range(shape(thh)[0]):\n",
    "    \n",
    "    geo1 = []\n",
    "    geo2 = []\n",
    "    th1 = []\n",
    "    th2 = []\n",
    "    vort1 = []\n",
    "    vort2 = []\n",
    "    wind1 = []\n",
    "    wind2 = []\n",
    "    vv1 = []\n",
    "    vv2 = []\n",
    "    modth1 = []\n",
    "    modth2 = []\n",
    "    ug1,vg1 = [], []\n",
    "    ug2,vg2 = [], []\n",
    "    def11,def21 = [], []\n",
    "    def12,def22 = [], []\n",
    "\n",
    "    geo1.append(diag_h_geop(thh[i], thb[i], z=-H / 2))\n",
    "    geo2.append(diag_h_geop(thh[i], thb[i], z=H / 2))\n",
    "    th1.append(diag_h_theta(thh[i], thb[i], z=-H / 2))\n",
    "    th2.append(diag_h_theta(thh[i], thb[i], z=H / 2))\n",
    "    vort1.append(diag_h_vorti(thh[i], thb[i], z=-H / 2))\n",
    "    vort2.append(diag_h_vorti(thh[i], thb[i], z=H / 2))\n",
    "    wind1.append(diag_h_wind(thh[i], thb[i], z=-H / 2))\n",
    "    wind2.append(diag_h_wind(thh[i], thb[i], z=H / 2))\n",
    "    vv1.append(diag_h_vv(thh[i], thb[i], z=-H / 4))\n",
    "    vv2.append(diag_h_vv(thh[i], thb[i], z=H / 4))\n",
    "    modth1.append(diag_h_gradtheta(thh[i], thb[i], z=-H / 2))\n",
    "    modth2.append(diag_h_gradtheta(thh[i], thb[i], z=H / 2))\n",
    "    ug_tmp, vg_tmp = diag_h_wind(thh[i], thb[i], z=-H / 2)\n",
    "    ug1.append(ug_tmp)\n",
    "    vg1.append(vg_tmp)\n",
    "    ug_tmp, vg_tmp = diag_h_wind(thh[i], thb[i], z=H / 2)\n",
    "    ug2.append(ug_tmp)\n",
    "    vg2.append(vg_tmp)\n",
    "    def1_tmp, def2_tmp = diag_h_deform(thh[i], thb[i], z=-H / 2)\n",
    "    def11.append(def1_tmp)\n",
    "    def21.append(def2_tmp)\n",
    "    def1_tmp, def2_tmp = diag_h_deform(thh[i], thb[i], z=-H / 2)\n",
    "    def12.append(def1_tmp)\n",
    "    def22.append(def2_tmp)\n",
    "    \n",
    "    geo12 = np.reshape(geo1, (MUTIL, NUTIL))\n",
    "    geo22 = np.reshape(geo2, (MUTIL, NUTIL))\n",
    "    th12 = np.reshape(th1, (MUTIL, NUTIL))\n",
    "    th22 = np.reshape(th2, (MUTIL, NUTIL))\n",
    "    vort12 = np.reshape(vort1, (MUTIL, NUTIL))\n",
    "    vort22 = np.reshape(vort2, (MUTIL, NUTIL))\n",
    "    vv12 = np.reshape(vv1, (MUTIL, NUTIL))\n",
    "    vv22 = np.reshape(vv2, (MUTIL, NUTIL))\n",
    "    modth12 = np.reshape(modth1, (MUTIL, NUTIL))\n",
    "    modth22 = np.reshape(modth2, (MUTIL, NUTIL))\n",
    "    ug12 = np.reshape(ug1, (MUTIL, NUTIL))\n",
    "    vg12 = np.reshape(vg1, (MUTIL, NUTIL))\n",
    "    ug22 = np.reshape(ug2, (MUTIL, NUTIL))\n",
    "    vg22 = np.reshape(vg2, (MUTIL, NUTIL))\n",
    "    def112 = np.reshape(def11, (MUTIL, NUTIL))\n",
    "    def212 = np.reshape(def21, (MUTIL, NUTIL))\n",
    "    def122 = np.reshape(def12, (MUTIL, NUTIL))\n",
    "    def222 = np.reshape(def22, (MUTIL, NUTIL))\n",
    "    \n",
    "    fig = plt.figure(figsize=(17,10))\n",
    "    fig.suptitle('Etat initial du modèle : coupes horizontales sol/tropopause', fontsize=16)\n",
    "    \n",
    "    plt.subplot(221)\n",
    "    plt.title(\"Géopotentiel température potentielle et vent au sol\")\n",
    "    plot_background()\n",
    "    c = plt.contour(ord,abs,geo12,levels_geo_h,colors='k')\n",
    "    plt.clabel(c,c.levels[::2],inline=1,fontsize=10,fmt=\"%1.0f\")\n",
    "    c = plt.contour(ord,abs,th12,levels_th_h,linewidth=1.5)\n",
    "    plt.clabel(c,c.levels[::2],inline=1,fontsize=8,fmt=\"%1.0f\")\n",
    "    plt.quiver(ord[::5],abs[::5],vg12[::5, ::5],-ug12[::5, ::5],scale=500,headwidth=8,width=0.0013)\n",
    "    \n",
    "    plt.subplot(222)\n",
    "    plt.title(\"Géopotentiel température potentielle et vent à la tropopause\")\n",
    "    plot_background()\n",
    "    c = plt.contour(ord,abs,geo22,levels_geo_h,colors='k')\n",
    "    plt.clabel(c,c.levels[::2],inline=1,fontsize=10,fmt=\"%1.0f\")\n",
    "    c = plt.contour(ord,abs,th22,levels_th_h,linewidth=1.5)\n",
    "    plt.clabel(c,c.levels[::2],inline=1,fontsize=8,fmt=\"%1.0f\")\n",
    "    plt.quiver(ord[::5],abs[::5],vg22[::5, ::5],-ug22[::5, ::5],scale=500,headwidth=8,width=0.0013)\n",
    "    \n",
    "    plt.subplot(223)\n",
    "    plt.title(\"Tourbillon géostrophique température potentielle et vitesse verticale au sol\")\n",
    "    plot_background()\n",
    "    c = plt.contour(ord,abs,th12,levels_th_h,linewidth=1.5)\n",
    "    plt.clabel(c,c.levels[::2],inline=1,fontsize=8,fmt=\"%1.0f\")\n",
    "    c1 = plt.contour(ord,abs,vort12,levels_vort_h_pos,colors=\"blue\")\n",
    "    plt.clabel(c1,c1.levels[::2],inline=1,fontsize=6,fmt=\"%1.6f\")\n",
    "    c3 = plt.contour(ord,abs,vv12,levels_vv_h_neg,colors=\"black\",linestyles=\"--\")\n",
    "    plt.clabel(c3,c3.levels[::2],inline=1,fontsize=6,fmt=\"%1.3f\")\n",
    "    c4 = plt.contour(ord,abs,vv12,levels_vv_h_pos,colors=\"black\",linestyles=\"-\")\n",
    "    plt.clabel(c4,c4.levels[::2],fontsize=6,fmt=\"%1.3f\")\n",
    "    \n",
    "    plt.subplot(224)\n",
    "    plt.title(\"Tourbillon géostrophique et température potentielle et vitesse verticale à la tropopause\")\n",
    "    plot_background()\n",
    "    c = plt.contour(ord,abs,th22,levels_th_h,linewidth=1.5)\n",
    "    plt.clabel(c,c.levels[::2],inline=1,fontsize=8,fmt=\"%1.0f\")\n",
    "    c1 = plt.contour(ord,abs,vort22,levels_vort_h_pos,colors=\"blue\")\n",
    "    plt.clabel(c1,c1.levels[::2],inline=1,fontsize=6,fmt=\"%1.6f\")\n",
    "    c3 = plt.contour(ord,abs,vv22,levels_vv_h_neg,colors=\"black\",linestyles=\"--\")\n",
    "    plt.clabel(c3,c3.levels[::2],inline=1,fontsize=6,fmt=\"%1.3f\")\n",
    "    c4 = plt.contour(ord,abs,vv22,levels_vv_h_pos,colors=\"black\",linestyles=\"-\")\n",
    "    plt.clabel(c4,c4.levels[::2],fontsize=6,fmt=\"%1.3f\")\n",
    "    \n",
    "    figname=dir_figs+'Q8_init_h'\n",
    "    plt.savefig(figname+'.png',bbox_inches='tight')\n",
    "    plt.show()\n",
    "    \n",
    "    # Ajout d'une coupe zonale\n",
    "    x = 4e6\n",
    "    n_z = 11\n",
    "    dz = H / (n_z - 1)\n",
    "    z1 = range(0, int(H + dz), int(dz))\n",
    "    \n",
    "    theta = []\n",
    "    vorti = []\n",
    "\n",
    "    theta.append(transpose(diag_z_theta(thh[i], thb[i], x, n_z)))\n",
    "    vorti.append(transpose(diag_z_vorti(thh[i], thb[i], x, n_z)))\n",
    "\n",
    "    theta2 = np.reshape(theta, (n_z, NUTIL))\n",
    "    vorti2 = np.reshape(vorti, (n_z, NUTIL))  \n",
    "\n",
    "    n_z = 13\n",
    "    dz = H / (n_z - 1)\n",
    "    z2 = range(0, int(H + dz), int(dz))\n",
    "    \n",
    "    vvv = []\n",
    "    vvv.append(transpose(diag_z_vv(thh[i], thb[i], x, n_z)))\n",
    "    \n",
    "    vvv2 = np.reshape(vvv, (n_z, NUTIL))\n",
    "    \n",
    "    fig = plt.figure(figsize=(10,8))\n",
    "    fig.suptitle('Etat initial du modèle : coupe zonale', fontsize=16)\n",
    "    plt.subplot(111)\n",
    "    plt.title(\"Température potentielle tourbillon géostrophique et vitesse verticale\")\n",
    "    plt.ylim([0, 10])\n",
    "    plt.xlabel(\"Axe Ouest - Est ($km$)\", fontsize=10)\n",
    "    plt.xticks(np.arange(NUTIL)[::12],ord[::12])\n",
    "    plt.ylabel(\"Altitude ($km$)\", fontsize=10)\n",
    "    c = plt.contour(theta2,levels=levels_th_m,linewidths=2)\n",
    "    plt.clabel(c, fontsize=8, fmt=\"%1.0f\")\n",
    "    #c1 = plt.contour(vorti2,levels=levels_vort_z_neg,colors='red',linewidths=2)\n",
    "    #plt.clabel(c1, c1.levels[::2], fontsize=8, fmt=\"%.0e\")\n",
    "    c2 = plt.contour(vorti2,levels=levels_vort_z_pos,colors='blue',linewidths=2)\n",
    "    plt.clabel(c2, c2.levels[::2], fontsize=8, fmt=\"%.0e\")\n",
    "    \n",
    "    #plt.quiver(abs[::4],z2[::4],vvv2[::4, ::4] *1e-50,vvv2[::4, ::4] *1000,scale=50,width=0.005,headwidth=3,scale_units=\"width\")\n",
    "    c = plt.contour(vvv2, colors='k')\n",
    "    plt.clabel(c, c.levels[::2], fontsize=7, fmt=\"%.0e\")\n",
    "    \n",
    "    figname=dir_figs+'Q8_init_z'\n",
    "    plt.savefig(figname+'.png',bbox_inches='tight')\n",
    "    plt.show()"
   ]
  },
  {
   "cell_type": "raw",
   "metadata": {},
   "source": [
    "Run du modèle sur 4 jours"
   ]
  },
  {
   "cell_type": "code",
   "execution_count": null,
   "metadata": {
    "scrolled": false
   },
   "outputs": [],
   "source": [
    "thhi, thbi = EtatInitial().gradeady_gradwernli_anotripo(tilt=1400)\n",
    "thhi2, thbi2 = EtatInitial().gradeady_gradwernli()\n",
    "steps = [0, 48, 96, 144, 192, 240, 288, 336, 384]\n",
    "thh, thb = Modele().run(thhi, thbi2, steps)\n",
    "\n",
    "mini2 = []\n",
    "mini_ind2 = []\n",
    "\n",
    "for i in range(shape(thh)[0]):\n",
    "    \n",
    "    geo1 = []\n",
    "    geo2 = []\n",
    "    th1 = []\n",
    "    th2 = []\n",
    "    vort1 = []\n",
    "    vort2 = []\n",
    "    vv1 = []\n",
    "    vv2 = []\n",
    "    ug1,vg1 = [], []\n",
    "    ug2,vg2 = [], []\n",
    "\n",
    "    geo1.append(diag_h_geop(thh[i], thb[i], z=-H / 2))\n",
    "    geo2.append(diag_h_geop(thh[i], thb[i], z=H / 2))\n",
    "    th1.append(diag_h_theta(thh[i], thb[i], z=-H / 2))\n",
    "    th2.append(diag_h_theta(thh[i], thb[i], z=H / 2))\n",
    "    vort1.append(diag_h_vorti(thh[i], thb[i], z=-H / 2))\n",
    "    vort2.append(diag_h_vorti(thh[i], thb[i], z=H / 2))\n",
    "    vv1.append(diag_h_vv(thh[i], thb[i], z=-H / 4))\n",
    "    vv2.append(diag_h_vv(thh[i], thb[i], z=H / 4))   \n",
    "    ug_tmp, vg_tmp = diag_h_wind(thh[i], thb[i], z=-H / 2)\n",
    "    ug1.append(ug_tmp)\n",
    "    vg1.append(vg_tmp)\n",
    "    ug_tmp, vg_tmp = diag_h_wind(thh[i], thb[i], z=H / 2)\n",
    "    ug2.append(ug_tmp)\n",
    "    vg2.append(vg_tmp)\n",
    "    mini2.append(round(int(np.min(diag_h_geop(thh[i], thb[i], z=-H / 2)))))\n",
    "    mini_ind2.append(np.unravel_index(np.argmin(diag_h_geop(thh[i], thb[i], z=-H / 2),axis=None),thh[i].shape))\n",
    "    \n",
    "    geo12 = np.reshape(geo1, (MUTIL, NUTIL))\n",
    "    geo22 = np.reshape(geo2, (MUTIL, NUTIL))\n",
    "    th12 = np.reshape(th1, (MUTIL, NUTIL))\n",
    "    th22 = np.reshape(th2, (MUTIL, NUTIL))\n",
    "    vort12 = np.reshape(vort1, (MUTIL, NUTIL))\n",
    "    vort22 = np.reshape(vort2, (MUTIL, NUTIL))\n",
    "    vv12 = np.reshape(vv1, (MUTIL, NUTIL))\n",
    "    vv22 = np.reshape(vv2, (MUTIL, NUTIL))\n",
    "    ug12 = np.reshape(ug1, (MUTIL, NUTIL))\n",
    "    vg12 = np.reshape(vg1, (MUTIL, NUTIL))\n",
    "    ug22 = np.reshape(ug2, (MUTIL, NUTIL))\n",
    "    vg22 = np.reshape(vg2, (MUTIL, NUTIL))\n",
    "    \n",
    "    fig = plt.figure(figsize=(20,10))\n",
    "    fig.suptitle('Coupes horizontales sol/tropopause : t='+str(steps[i]), fontsize=16)\n",
    "    \n",
    "    plt.subplot(221)\n",
    "    plt.title(\"Géopotentiel température potentielle et vent au sol\")\n",
    "    plot_background()\n",
    "    c = plt.contour(ord,abs,geo12,levels_geo_h,colors='k')\n",
    "    plt.clabel(c,c.levels[::2],inline=1,fontsize=10,fmt=\"%1.0f\")\n",
    "    c = plt.contour(ord,abs,th12,levels_th_h,linewidth=1.5)\n",
    "    plt.clabel(c,c.levels[::2],inline=1,fontsize=8,fmt=\"%1.0f\")\n",
    "    plt.quiver(ord[::5],abs[::5],vg12[::5, ::5],-ug12[::5, ::5],scale=500,headwidth=8,width=0.0013)\n",
    "\n",
    "    plt.subplot(222)\n",
    "    plt.title(\"Géopotentiel température potentielle et vent à la tropopause\")\n",
    "    plot_background()\n",
    "    c = plt.contour(ord,abs,geo22,levels_geo_h,colors='k')\n",
    "    plt.clabel(c,c.levels[::2],inline=1,fontsize=10,fmt=\"%1.0f\")\n",
    "    c = plt.contour(ord,abs,th22,levels_th_h,linewidth=1.5)\n",
    "    plt.clabel(c,c.levels[::2],inline=1,fontsize=8,fmt=\"%1.0f\")\n",
    "    plt.quiver(ord[::5],abs[::5],vg22[::5, ::5],-ug22[::5, ::5],scale=500,headwidth=8,width=0.0013)\n",
    "    \n",
    "    plt.subplot(223)\n",
    "    plt.title(\"Tourbillon géostrophique température potentielle et vitesse verticale au sol\")\n",
    "    plot_background()\n",
    "    c = plt.contour(ord,abs,th12,levels_th_h,linewidth=1.5)\n",
    "    plt.clabel(c,c.levels[::2],inline=1,fontsize=8,fmt=\"%1.0f\")\n",
    "    c1 = plt.contour(ord,abs,vort12,levels_vort_h_pos,colors=\"blue\")\n",
    "    plt.clabel(c1,c1.levels[::2],inline=1,fontsize=6,fmt=\"%1.6f\")\n",
    "    c3 = plt.contour(ord,abs,vv12,levels_vv_h_neg,colors=\"black\",linestyles=\"--\")\n",
    "    plt.clabel(c3,c3.levels[::2],inline=1,fontsize=6,fmt=\"%1.3f\")\n",
    "    c4 = plt.contour(ord,abs,vv12,levels_vv_h_pos,colors=\"black\",linestyles=\"-\")\n",
    "    plt.clabel(c4,c4.levels[::2],fontsize=6,fmt=\"%1.3f\")\n",
    "    \n",
    "    plt.subplot(224)\n",
    "    plt.title(\"Tourbillon géostrophique température potentielle et vitesse verticale à la tropopause\")\n",
    "    plot_background()\n",
    "    c = plt.contour(ord,abs,th22,levels_th_h,linewidth=1.5)\n",
    "    plt.clabel(c,c.levels[::2],inline=1,fontsize=8,fmt=\"%1.0f\")\n",
    "    c1 = plt.contour(ord,abs,vort22,levels_vort_h_pos,colors=\"blue\")\n",
    "    plt.clabel(c1,c1.levels[::2],inline=1,fontsize=6,fmt=\"%1.6f\")\n",
    "    c3 = plt.contour(ord,abs,vv12,levels_vv_h_neg,colors=\"black\",linestyles=\"--\")\n",
    "    plt.clabel(c3,c3.levels[::2],inline=1,fontsize=6,fmt=\"%1.3f\")\n",
    "    c4 = plt.contour(ord,abs,vv12,levels_vv_h_pos,colors=\"black\",linestyles=\"-\")\n",
    "    plt.clabel(c4,c4.levels[::2],fontsize=6,fmt=\"%1.3f\")\n",
    "    \n",
    "    if steps[i]<10:\n",
    "        figname=dir_figs+'Q8/Q8_h_00'+str(steps[i])\n",
    "    if steps[i]>=10 and steps[i]<100:\n",
    "        figname=dir_figs+'Q8/Q8_h_0'+str(steps[i])\n",
    "    if steps[i]>=100:\n",
    "        figname=dir_figs+'Q8/Q8_h_'+str(steps[i])\n",
    "    plt.savefig(figname+'.png',bbox_inches='tight')\n",
    "    plt.close()\n",
    "    \n",
    "print(mini2)"
   ]
  },
  {
   "cell_type": "raw",
   "metadata": {},
   "source": [
    "Animation"
   ]
  },
  {
   "cell_type": "code",
   "execution_count": null,
   "metadata": {},
   "outputs": [],
   "source": [
    "dir_anim='./out/Q8/'\n",
    "gif_filepath = dir_anim+'cyclo2.gif'\n",
    "make_animation()\n",
    "IPdisplay.Image(url=gif_filepath)"
   ]
  },
  {
   "cell_type": "markdown",
   "metadata": {},
   "source": [
    "<div class=\"alert alert-warning\">\n",
    "<b>Questions : </b>\n",
    "<p><b>1) </b>Une cyclogenèse est-elle possible en présence d'une anomalie d'altitude uniquement ? Par quel mécanisme ?\n",
    "<p><b>2) </b>Afficher un graphique de l'évolution du minimum de géopotentiel (array mini2) au cours de la simulation ainsi qu'un graphique du champ de géopotentiel au sol à la fin de la simulation (geo12) superposé au pointage de la trajectoire de la dépression (array mini_ind2)\n",
    "</p>\n",
    "<p><b>3) </b>Comparer le cresuement avec le cas avec deux anomalies.\n",
    "</p>\n",
    "</div>"
   ]
  },
  {
   "cell_type": "markdown",
   "metadata": {},
   "source": [
    "<div class=\"alert alert-success\">\n",
    "<b>Réponses : </b>\n",
    "</div>"
   ]
  },
  {
   "cell_type": "raw",
   "metadata": {},
   "source": [
    "Suivi de la dépression"
   ]
  },
  {
   "cell_type": "code",
   "execution_count": null,
   "metadata": {},
   "outputs": [],
   "source": []
  },
  {
   "cell_type": "markdown",
   "metadata": {},
   "source": [
    "# Question 9 : Comparaisons"
   ]
  },
  {
   "cell_type": "raw",
   "metadata": {},
   "source": [
    "Simulation avec déphasage de 1700m"
   ]
  },
  {
   "cell_type": "code",
   "execution_count": null,
   "metadata": {
    "scrolled": false
   },
   "outputs": [],
   "source": [
    "thhi, thbi = EtatInitial().gradeady_gradwernli_anotripo(tilt=1700)\n",
    "thh0, thb0 = Modele().run(thhi, thbi, steps=[0])\n",
    "\n",
    "thhi, thbi = EtatInitial().gradeady_gradwernli_anotripo(tilt=1700)\n",
    "thh1, thb1 = Modele().run(thhi, thbi, steps=[288])\n",
    "\n",
    "for i in range(shape(thh0)[0]):\n",
    "    \n",
    "    geo = []\n",
    "    geo.append(diag_h_geop(thh0[i], thb0[i], z=-H / 2))\n",
    "    geo2 = np.reshape(geo, (MUTIL, NUTIL))\n",
    "    \n",
    "    fig = plt.figure(figsize=(15,8))\n",
    "    fig.suptitle('Simulation avec déphasage de 1700m', fontsize=16)\n",
    "    \n",
    "    plt.subplot(111)\n",
    "    plt.title(\"Géopotentiel au sol\")\n",
    "    plot_background()\n",
    "    c = plt.contour(ord,abs,geo2,levels_geo_h)\n",
    "    plt.clabel(c,c.levels[::2],inline=1,fontsize=10,fmt=\"%1.0f\")\n",
    "  \n",
    "    figname=dir_figs+'Q9_compar1a'\n",
    "    plt.savefig(figname+'.png',bbox_inches='tight')\n",
    "    plt.show()\n",
    "    \n",
    "for i in range(shape(thh1)[0]):\n",
    "    \n",
    "    geo = []\n",
    "    geo.append(diag_h_geop(thh1[i], thb1[i], z=-H / 2))\n",
    "    geo2 = np.reshape(geo, (MUTIL, NUTIL))\n",
    "    \n",
    "    fig = plt.figure(figsize=(15,8))\n",
    "    fig.suptitle('Simulation avec déphasage de 1700m', fontsize=16)\n",
    "    \n",
    "    plt.subplot(111)\n",
    "    plt.title(\"Géopotentiel au sol\")\n",
    "    plot_background()\n",
    "    c = plt.contour(ord,abs,geo2,levels_geo_h)\n",
    "    plt.clabel(c,c.levels[::2],inline=1,fontsize=10,fmt=\"%1.0f\")\n",
    "  \n",
    "    figname=dir_figs+'Q9_compar1b'\n",
    "    plt.savefig(figname+'.png',bbox_inches='tight')\n",
    "    plt.show()"
   ]
  },
  {
   "cell_type": "raw",
   "metadata": {},
   "source": [
    "Simulation avec déphasage de 5500m"
   ]
  },
  {
   "cell_type": "code",
   "execution_count": null,
   "metadata": {},
   "outputs": [],
   "source": [
    "thhi, thbi = EtatInitial().gradeady_gradwernli_anotripo(tilt=5500)\n",
    "thh0, thb0 = Modele().run(thhi, thbi, steps=[0])\n",
    "\n",
    "thhi, thbi = EtatInitial().gradeady_gradwernli_anotripo(tilt=5500)\n",
    "thh1, thb1 = Modele().run(thhi, thbi, steps=[288])\n",
    "\n",
    "for i in range(shape(thh0)[0]):\n",
    "    \n",
    "    geo = []\n",
    "    geo.append(diag_h_geop(thh0[i], thb0[i], z=-H / 2))\n",
    "    geo2 = np.reshape(geo, (MUTIL, NUTIL))\n",
    "    \n",
    "    fig = plt.figure(figsize=(15,8))\n",
    "    fig.suptitle('Simulation avec déphasage de 5500m', fontsize=16)\n",
    "    \n",
    "    plt.subplot(111)\n",
    "    plt.title(\"Géopotentiel au sol\")\n",
    "    plot_background()\n",
    "    c = plt.contour(ord,abs,geo2,levels_geo_h)\n",
    "    plt.clabel(c,c.levels[::2],inline=1,fontsize=10,fmt=\"%1.0f\")\n",
    "  \n",
    "    figname=dir_figs+'Q9_compar2a'\n",
    "    plt.savefig(figname+'.png',bbox_inches='tight')\n",
    "    plt.show()\n",
    "    \n",
    "for i in range(shape(thh1)[0]):\n",
    "    \n",
    "    geo = []\n",
    "    geo.append(diag_h_geop(thh1[i], thb1[i], z=-H / 2))\n",
    "    geo2 = np.reshape(geo, (MUTIL, NUTIL))\n",
    "    \n",
    "    fig = plt.figure(figsize=(15,8))\n",
    "    fig.suptitle('Simulation avec déphasage de 5500m', fontsize=16)\n",
    "    \n",
    "    plt.subplot(111)\n",
    "    plt.title(\"Géopotentiel au sol\")\n",
    "    plot_background()\n",
    "    c = plt.contour(ord,abs,geo2,levels_geo_h)\n",
    "    plt.clabel(c,c.levels[::2],inline=1,fontsize=10,fmt=\"%1.0f\")\n",
    "  \n",
    "    figname=dir_figs+'Q9_compar2b'\n",
    "    plt.savefig(figname+'.png',bbox_inches='tight')\n",
    "    plt.show()"
   ]
  },
  {
   "cell_type": "markdown",
   "metadata": {},
   "source": [
    "<div class=\"alert alert-warning\">\n",
    "<b>Question : </b>\n",
    "<p><b>1) </b>Comment expliquer les différences observées entre ces deux simulations ?</p>\n",
    "</div>"
   ]
  },
  {
   "cell_type": "markdown",
   "metadata": {},
   "source": [
    "<div class=\"alert alert-success\">\n",
    "<b>Réponse : </b>\n",
    "</div>"
   ]
  }
 ],
 "metadata": {
  "kernelspec": {
   "display_name": "Python 3",
   "language": "python",
   "name": "python3"
  },
  "language_info": {
   "codemirror_mode": {
    "name": "ipython",
    "version": 3
   },
   "file_extension": ".py",
   "mimetype": "text/x-python",
   "name": "python",
   "nbconvert_exporter": "python",
   "pygments_lexer": "ipython3",
   "version": "3.7.11"
  }
 },
 "nbformat": 4,
 "nbformat_minor": 1
}
